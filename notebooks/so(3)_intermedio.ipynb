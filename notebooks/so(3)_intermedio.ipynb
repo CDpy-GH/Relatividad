{
  "nbformat": 4,
  "nbformat_minor": 0,
  "metadata": {
    "colab": {
      "name": "so(3)_intermedio.ipynb",
      "provenance": [],
      "collapsed_sections": [],
      "include_colab_link": true
    },
    "kernelspec": {
      "name": "python3",
      "display_name": "Python 3"
    }
  },
  "cells": [
    {
      "cell_type": "markdown",
      "metadata": {
        "id": "view-in-github",
        "colab_type": "text"
      },
      "source": [
        "<a href=\"https://colab.research.google.com/github/mario-i-caicedo-ai/Relatividad/blob/main/so(3)_intermedio.ipynb\" target=\"_parent\"><img src=\"https://colab.research.google.com/assets/colab-badge.svg\" alt=\"Open In Colab\"/></a>"
      ]
    },
    {
      "cell_type": "markdown",
      "metadata": {
        "id": "3xQ1UJOqmtGY"
      },
      "source": [
        "# **Representación Fundamental del ÁLgebra de Lorentz $so(1,3)$**\n",
        "\n",
        "## Prof. Mario I. Caicedo. Universidad Simón Bolívar. \n",
        "##Caracas. Venezuela"
      ]
    },
    {
      "cell_type": "markdown",
      "metadata": {
        "id": "JNRtS0qpkrJ6"
      },
      "source": [
        "### La siguiente bibliografía contiene detalles teóricos de inteŕes\n",
        "\n",
        "* A. O. Barut, **Electrodynamics and Classical Theory of Fields and Particles**, Chapt 1.\n",
        "* S. Weinberg, **The Quantum Theory of Fields**, Vol I. Chap 2.\n",
        "* Wu Ki Tung, **Group Theory in Physics**, Chap 10.\n",
        "* M. Green, J. Schwarz, E. Witten, **Superstring Theory**, Vol 1, Appendix 5.a "
      ]
    },
    {
      "cell_type": "markdown",
      "metadata": {
        "id": "boTutwZJlNAP"
      },
      "source": [
        "## Este cuaderno tienen tres objetivos principales\n",
        "\n",
        "* Conectar la construcción natural de los generadores del grupo de Lorentz con su representación explícita\n",
        "* Cambiar de base para demostrar que $so(1,3)\\approx{}su(2)\\oplus{}su(2)$\n",
        "* Aplicar tal construcción para construir las etiquetas adecuadas para identificar todas las representaciones del álgebra. "
      ]
    },
    {
      "cell_type": "markdown",
      "metadata": {
        "id": "OQL6ACAPovOx"
      },
      "source": [
        "### Biblioteca:"
      ]
    },
    {
      "cell_type": "code",
      "metadata": {
        "id": "dqMOFL1VkWwz"
      },
      "source": [
        "import numpy as np"
      ],
      "execution_count": null,
      "outputs": []
    },
    {
      "cell_type": "markdown",
      "metadata": {
        "id": "KvIbDIRVo1Ro"
      },
      "source": [
        "### Definición del conmutador"
      ]
    },
    {
      "cell_type": "code",
      "metadata": {
        "id": "Gsw_PujPzTwH"
      },
      "source": [
        "def conmutador(A,B):\n",
        "  C=np.dot(A,B)-np.dot(B,A)\n",
        "  return C"
      ],
      "execution_count": null,
      "outputs": []
    },
    {
      "cell_type": "markdown",
      "metadata": {
        "id": "xEYg8EqiLgaJ"
      },
      "source": [
        "------------------------------------------------"
      ]
    },
    {
      "cell_type": "markdown",
      "metadata": {
        "id": "0Nssthe6Mq0G"
      },
      "source": [
        "### Notas básicas acerca de: $su(2)$\n",
        "\n",
        "* ÁLgebra\n",
        "$$[\\mathbf{J}_i,\\mathbf{J}_j]=i\\epsilon_{ijk}\\mathbf{J}_k$$\n",
        "* Casimir: $\\mathbf{J}^2\\equiv{}\\mathbf{J}_1^2+\\mathbf{J}_2^2+\\mathbf{J}_3^2$\n",
        "* Generadores del álgebra en la representación fundamental (**2**) \n",
        "$$s_x=\\frac{1}{2}\\sigma_x\\,,\\quad{}s_y=\\frac{1}{2}\\sigma_y,\\quad{}s_z=\\frac{1}{2}\\sigma_z$$\n",
        "\n"
      ]
    },
    {
      "cell_type": "markdown",
      "metadata": {
        "id": "uSi9dgiFpdsV"
      },
      "source": [
        "### Notas básicas acerca del Álgebra de Lorentz (so(1,3))"
      ]
    },
    {
      "cell_type": "markdown",
      "metadata": {
        "id": "frzUlvmLtWA3"
      },
      "source": [
        "* dim[so(1,3)]=6\n",
        "\n",
        "* Dimensión de la represntación (en verdad, el espacio de representación) para la representación fundamental (**4**): 4."
      ]
    },
    {
      "cell_type": "markdown",
      "metadata": {
        "id": "yErqPPWDp9x9"
      },
      "source": [
        "### Generadores y álgebra según la construcción natural:"
      ]
    },
    {
      "cell_type": "markdown",
      "metadata": {
        "id": "tE_CzdTGtLr1"
      },
      "source": [
        "* Convención de Weiberg/Wu Ki Tung. \n",
        "\n",
        "* Generadores\n",
        "$$(\\mathbf{J}_{KL})^{I}_{\\,\\,\\,J}=i(\\eta_{LJ}\\delta^{I}_{\\,\\,\\,K}-\\eta_{KJ}\\delta^{I}_{\\,\\,\\,\n",
        "L})$$\n",
        "\n",
        "\n",
        "* Algebra\n",
        "$$\n",
        "\\begin{split}\n",
        "[\\mathbf{J}_{\\mu\\nu},\\mathbf{J}_{\\lambda\\sigma}]&=\n",
        "%\n",
        "%\n",
        "i\\eta_{\\mu\\sigma}\\mathbf{J}_{\\lambda\\nu}\n",
        "%\n",
        "-i\\eta_{\\mu\\lambda}\\mathbf{J}_{\\sigma\\nu} \n",
        "%\n",
        "+i\\eta_{\\nu\\sigma}\\mathbf{J}_{\\mu\\lambda}\n",
        "%\n",
        "-i\\eta_{\\nu\\lambda}\\mathbf{J}_{\\mu\\sigma}    \n",
        "\\end{split}\n",
        "$$\n"
      ]
    },
    {
      "cell_type": "markdown",
      "metadata": {
        "id": "Duj-TSz3qjfy"
      },
      "source": [
        "### Representación Matricial Explícita (representación **4**)"
      ]
    },
    {
      "cell_type": "markdown",
      "metadata": {
        "id": "1u7zHuDsqsey"
      },
      "source": [
        "## Generadores de Boosts"
      ]
    },
    {
      "cell_type": "markdown",
      "metadata": {
        "id": "BuQp4-_ncYjy"
      },
      "source": [
        "$$\n",
        "\\mathbf{J}_{01}=i\\,\n",
        "%\n",
        "\\begin{pmatrix}\n",
        "0&1&0&0\\\\\n",
        "1&0&0&0\\\\\n",
        "0&0&0&0\\\\\n",
        "0&0&0&0\n",
        "\\end{pmatrix}\\,,\n",
        "\\qquad{}\n",
        "\\mathbf{J}_{02}=i\\,\n",
        "%\n",
        "\\begin{pmatrix}\n",
        "0&0&1&0\\\\\n",
        "0&0&0&0\\\\\n",
        "1&0&0&0\\\\\n",
        "0&0&0&0\n",
        "\\end{pmatrix}\n",
        "\\,,\\quad{}\\mathbf{J}_{03}=i\\,\n",
        "%\n",
        "\\begin{pmatrix}\n",
        "0&0&0&1\\\\\n",
        "0&0&0&0\\\\\n",
        "0&0&0&0\\\\\n",
        "1&0&0&0\n",
        "\\end{pmatrix}\n",
        "$$\n"
      ]
    },
    {
      "cell_type": "code",
      "metadata": {
        "id": "aesW2pJ3HQ1L"
      },
      "source": [
        "J01 = 1.j*np.matrix(\"0.,1.,0.,0.;1.,0.,0.,0.;0.,0.,0.,0.;0.,0.,0.,0.\")\n",
        "J02 = 1.j*np.matrix(\"0.,0.,1.,0.;0.,0.,0.,0.;1.,0.,0.,0.;0.,0.,0.,0.\")\n",
        "J03 = 1.j*np.matrix(\"0.,0.,0.,1.;0.,0.,0.,0.;0.,0.,0.,0.;1.,0.,0.,0.\")"
      ],
      "execution_count": null,
      "outputs": []
    },
    {
      "cell_type": "code",
      "metadata": {
        "id": "SiPnIJAVVpOz"
      },
      "source": [
        "K1=J01\n",
        "K2=J02\n",
        "K3=J03"
      ],
      "execution_count": null,
      "outputs": []
    },
    {
      "cell_type": "markdown",
      "metadata": {
        "id": "4VJaqy-mqx_s"
      },
      "source": [
        "## Generadores del subgrupo de Rotaciones"
      ]
    },
    {
      "cell_type": "markdown",
      "metadata": {
        "id": "OnxXB4P7crrN"
      },
      "source": [
        "$$\n",
        "\\mathbf{J}_{12}=i\\,\n",
        "%\n",
        "\\begin{pmatrix}\n",
        "0&0&0&0\\\\\n",
        "0&0&-1&0\\\\\n",
        "0&1&0&0\\\\\n",
        "0&0&0&0\n",
        "\\end{pmatrix}\\,,\\quad\n",
        "%\n",
        "%\n",
        "\\mathbf{J}_{23}=i\\,\n",
        "%\n",
        "\\begin{pmatrix}\n",
        "0&0&0&0\\\\\n",
        "0&0&0&0\\\\\n",
        "0&0&0&-1\\\\\n",
        "0&0&1&0\n",
        "\\end{pmatrix}\\,,\\quad\n",
        "%\n",
        "\\mathbf{J}_{31}=i\\,\n",
        "%\n",
        "\\begin{pmatrix}\n",
        "0&0&0&0\\\\\n",
        "0&0&0&1\\\\\n",
        "0&0&0&0\\\\\n",
        "0&-1&0&0\n",
        "\\end{pmatrix}\n",
        "$$"
      ]
    },
    {
      "cell_type": "code",
      "metadata": {
        "id": "jSC8auvfBpbd"
      },
      "source": [
        "J12 = 1.j*np.matrix(\"0.,0.,0.,0.;0.,0.,-1.,0.;0.,1.,0.,0.;0.,0.,0.,0.\")\n",
        "J23 = 1.j*np.matrix(\"0.,0.,0.,0.;0.,0.,0.,0.;0.,0.,0.,-1.;0.,0.,1.,0.\")\n",
        "J31 = 1.j*np.matrix(\"0.,0.,0.,0.;0.,0.,0.,1.;0.,0.,0.,0.;0.,-1.,0.,0.\")"
      ],
      "execution_count": null,
      "outputs": []
    },
    {
      "cell_type": "code",
      "metadata": {
        "id": "o4HQVdM7V6qJ"
      },
      "source": [
        "J1=J23\n",
        "J2=J31\n",
        "J3=J12"
      ],
      "execution_count": null,
      "outputs": []
    },
    {
      "cell_type": "code",
      "metadata": {
        "colab": {
          "base_uri": "https://localhost:8080/"
        },
        "id": "FopMRgHAw93j",
        "outputId": "d5975010-39d5-43ef-e0bf-760d0c1c71a7"
      },
      "source": [
        "print('J1\\n',J1)\n",
        "print()\n",
        "print('J2\\n',J2)\n",
        "print()\n",
        "print('J3\\n',J3) # S2"
      ],
      "execution_count": null,
      "outputs": [
        {
          "output_type": "stream",
          "text": [
            "J1\n",
            " [[0.+0.j 0.+0.j 0.+0.j 0.+0.j]\n",
            " [0.+0.j 0.+0.j 0.+0.j 0.+0.j]\n",
            " [0.+0.j 0.+0.j 0.+0.j 0.-1.j]\n",
            " [0.+0.j 0.+0.j 0.+1.j 0.+0.j]]\n",
            "\n",
            "J2\n",
            " [[0.+0.j 0.+0.j 0.+0.j 0.+0.j]\n",
            " [0.+0.j 0.+0.j 0.+0.j 0.+1.j]\n",
            " [0.+0.j 0.+0.j 0.+0.j 0.+0.j]\n",
            " [0.+0.j 0.-1.j 0.+0.j 0.+0.j]]\n",
            "\n",
            "J3\n",
            " [[0.+0.j 0.+0.j 0.+0.j 0.+0.j]\n",
            " [0.+0.j 0.+0.j 0.-1.j 0.+0.j]\n",
            " [0.+0.j 0.+1.j 0.+0.j 0.+0.j]\n",
            " [0.+0.j 0.+0.j 0.+0.j 0.+0.j]]\n"
          ],
          "name": "stdout"
        }
      ]
    },
    {
      "cell_type": "markdown",
      "metadata": {
        "id": "4DAO3kKjq4iv"
      },
      "source": [
        "## ÁLgebra en la representación $(\\mathbf{K}_i,\\mathbf{J}_i)$"
      ]
    },
    {
      "cell_type": "markdown",
      "metadata": {
        "id": "RUbrqbOJlF7E"
      },
      "source": [
        "$$\n",
        "\\begin{split}\n",
        "[\\mathbf{J}_{i},\\mathbf{J}_{j}]&=i\\epsilon_{ijk}\\mathbf{J}_{k}\n",
        "\\\\\n",
        "[\\mathbf{K}_{i},\\mathbf{K}_{j}]&=-i\\epsilon_{ijk}\\mathbf{J}_{k}\\\\\n",
        "%\n",
        "[\\mathbf{J}_{i},\\mathbf{K}_{j}]&=i\\epsilon_{ijk}\\mathbf{K}_{k}\n",
        "\\end{split}\n",
        "$$"
      ]
    },
    {
      "cell_type": "markdown",
      "metadata": {
        "id": "qcuk-gBErF2-"
      },
      "source": [
        "### Verificación"
      ]
    },
    {
      "cell_type": "markdown",
      "metadata": {
        "id": "GUHArgBxdXeQ"
      },
      "source": [
        "$$\n",
        "[\\mathbf{J}_{i},\\mathbf{J}_{j}]=i\\epsilon_{ijk}\\mathbf{J}_{k}\n",
        "$$"
      ]
    },
    {
      "cell_type": "code",
      "metadata": {
        "id": "N3kDmQ_LJ0YT"
      },
      "source": [
        "X3=conmutador(J1,J2)\n",
        "X2=conmutador(J3,J1)\n",
        "X1=conmutador(J2,J3)"
      ],
      "execution_count": null,
      "outputs": []
    },
    {
      "cell_type": "code",
      "metadata": {
        "colab": {
          "base_uri": "https://localhost:8080/"
        },
        "id": "kXO20h7PrNgH",
        "outputId": "2e341a25-b32b-4a7c-aee3-a2ccdf3da8b6"
      },
      "source": [
        "print('[J1,J2]-iJ3\\n',X3-1.j*J3,'\\n')\n",
        "#\n",
        "print('[J3,J1]-iJ2\\n',X2-1.j*J2,'\\n')\n",
        "#\n",
        "print('[J2,J3]-iJ1\\n',X1-1.j*J1,'\\n')"
      ],
      "execution_count": null,
      "outputs": [
        {
          "output_type": "stream",
          "text": [
            "[J1,J2]-iJ3\n",
            " [[0.+0.j 0.+0.j 0.+0.j 0.+0.j]\n",
            " [0.+0.j 0.+0.j 0.+0.j 0.+0.j]\n",
            " [0.+0.j 0.+0.j 0.+0.j 0.+0.j]\n",
            " [0.+0.j 0.+0.j 0.+0.j 0.+0.j]] \n",
            "\n",
            "[J3,J1]-iJ2\n",
            " [[0.+0.j 0.+0.j 0.+0.j 0.+0.j]\n",
            " [0.+0.j 0.+0.j 0.+0.j 0.+0.j]\n",
            " [0.+0.j 0.+0.j 0.+0.j 0.+0.j]\n",
            " [0.+0.j 0.+0.j 0.+0.j 0.+0.j]] \n",
            "\n",
            "[J2,J3]-iJ1\n",
            " [[0.+0.j 0.+0.j 0.+0.j 0.+0.j]\n",
            " [0.+0.j 0.+0.j 0.+0.j 0.+0.j]\n",
            " [0.+0.j 0.+0.j 0.+0.j 0.+0.j]\n",
            " [0.+0.j 0.+0.j 0.+0.j 0.+0.j]] \n",
            "\n"
          ],
          "name": "stdout"
        }
      ]
    },
    {
      "cell_type": "markdown",
      "metadata": {
        "id": "BaAIyw9OdUgJ"
      },
      "source": [
        "$$\n",
        "[\\mathbf{K}_{i},\\mathbf{K}_{j}]=-i\\epsilon_{ijk}\\mathbf{J}_{k}\n",
        "$$"
      ]
    },
    {
      "cell_type": "code",
      "metadata": {
        "id": "Nq-MG3Rhkue2"
      },
      "source": [
        "Y3=conmutador(K1,K2)\n",
        "Y2=conmutador(K3,K1)\n",
        "Y1=conmutador(K2,K3) "
      ],
      "execution_count": null,
      "outputs": []
    },
    {
      "cell_type": "code",
      "metadata": {
        "colab": {
          "base_uri": "https://localhost:8080/"
        },
        "id": "dQpFrfI4-xOH",
        "outputId": "10ab3dca-7e3b-4aa1-ee48-e8735637f0c7"
      },
      "source": [
        "print('[K1,K2]+iJ3\\n',Y3+1.j*J3,'\\n')\n",
        "#\n",
        "print('[K3,K1]+iJ2\\n',Y2+1.j*J2,'\\n')\n",
        "#\n",
        "print('[K2,K3]+i12\\n',Y1+1.j*J1)"
      ],
      "execution_count": null,
      "outputs": [
        {
          "output_type": "stream",
          "text": [
            "[K1,K2]+iJ3\n",
            " [[0.+0.j 0.+0.j 0.+0.j 0.+0.j]\n",
            " [0.+0.j 0.+0.j 0.+0.j 0.+0.j]\n",
            " [0.+0.j 0.+0.j 0.+0.j 0.+0.j]\n",
            " [0.+0.j 0.+0.j 0.+0.j 0.+0.j]] \n",
            "\n",
            "[K3,K1]+iJ2\n",
            " [[0.+0.j 0.+0.j 0.+0.j 0.+0.j]\n",
            " [0.+0.j 0.+0.j 0.+0.j 0.+0.j]\n",
            " [0.+0.j 0.+0.j 0.+0.j 0.+0.j]\n",
            " [0.+0.j 0.+0.j 0.+0.j 0.+0.j]] \n",
            "\n",
            "[K2,K3]+i12\n",
            " [[0.+0.j 0.+0.j 0.+0.j 0.+0.j]\n",
            " [0.+0.j 0.+0.j 0.+0.j 0.+0.j]\n",
            " [0.+0.j 0.+0.j 0.+0.j 0.+0.j]\n",
            " [0.+0.j 0.+0.j 0.+0.j 0.+0.j]]\n"
          ],
          "name": "stdout"
        }
      ]
    },
    {
      "cell_type": "markdown",
      "metadata": {
        "id": "nDjPDf8Ld5Wk"
      },
      "source": [
        "$$\n",
        "[\\mathbf{J}_{i},\\mathbf{K}_{j}]=i\\epsilon_{ijk}\\mathbf{K}_{k}\n",
        "$$"
      ]
    },
    {
      "cell_type": "code",
      "metadata": {
        "id": "T-x1subVcnHQ"
      },
      "source": [
        "W3=conmutador(J1,K2)\n",
        "W2=conmutador(J3,K1)\n",
        "W1=conmutador(J2,K3)"
      ],
      "execution_count": null,
      "outputs": []
    },
    {
      "cell_type": "code",
      "metadata": {
        "colab": {
          "base_uri": "https://localhost:8080/"
        },
        "id": "cDUeGUlhymBf",
        "outputId": "8d8c7f71-4b56-40a1-a385-a262f826800b"
      },
      "source": [
        "print('[J1,K2]-iK3\\n',W3-1.j*K3,'\\n')\n",
        "#\n",
        "print('[J3,K1]-iK2\\n',W2-1.j*K2,'\\n')\n",
        "#\n",
        "print('[J2,K3]-iK1\\n',W1-1.j*K1)"
      ],
      "execution_count": null,
      "outputs": [
        {
          "output_type": "stream",
          "text": [
            "[J1,K2]-iK3\n",
            " [[0.+0.j 0.+0.j 0.+0.j 0.+0.j]\n",
            " [0.+0.j 0.+0.j 0.+0.j 0.+0.j]\n",
            " [0.+0.j 0.+0.j 0.+0.j 0.+0.j]\n",
            " [0.+0.j 0.+0.j 0.+0.j 0.+0.j]] \n",
            "\n",
            "[J3,K1]-iK2\n",
            " [[0.+0.j 0.+0.j 0.+0.j 0.+0.j]\n",
            " [0.+0.j 0.+0.j 0.+0.j 0.+0.j]\n",
            " [0.+0.j 0.+0.j 0.+0.j 0.+0.j]\n",
            " [0.+0.j 0.+0.j 0.+0.j 0.+0.j]] \n",
            "\n",
            "[J2,K3]-iK1\n",
            " [[0.+0.j 0.+0.j 0.+0.j 0.+0.j]\n",
            " [0.+0.j 0.+0.j 0.+0.j 0.+0.j]\n",
            " [0.+0.j 0.+0.j 0.+0.j 0.+0.j]\n",
            " [0.+0.j 0.+0.j 0.+0.j 0.+0.j]]\n"
          ],
          "name": "stdout"
        }
      ]
    },
    {
      "cell_type": "markdown",
      "metadata": {
        "id": "XY9gAEQGrXM2"
      },
      "source": [
        "## Cambio a la base ($\\mathbf{N}_i,\\mathbf{N}_i^\\dagger$)"
      ]
    },
    {
      "cell_type": "markdown",
      "metadata": {
        "id": "W8EoysGJeAcD"
      },
      "source": [
        "$$\n",
        "\\begin{split}\n",
        "\\mathbf{N}_i=\\frac{1}{2}(\\mathbf{N}_i+i\\mathbf{N}_i)\\\\\n",
        "%\n",
        "\\mathbf{N}_i^\\dagger=\\frac{1}{2}(J_i-i\\mathbf{N}_i)\n",
        "\\end{split}\n",
        "$$"
      ]
    },
    {
      "cell_type": "code",
      "metadata": {
        "id": "qCGcUipCsR6o"
      },
      "source": [
        "N1=(J1+1.j*K1)/2\n",
        "N2=(J2+1.j*K2)/2\n",
        "N3=(J3+1.j*K3)/2\n",
        "\n",
        "#D para significar ''daga''\n",
        "\n",
        "N1D=(J1-1.j*K1)/2 \n",
        "N2D=(J2-1.j*K2)/2\n",
        "N3D=(J3-1.j*K3)/2"
      ],
      "execution_count": null,
      "outputs": []
    },
    {
      "cell_type": "code",
      "metadata": {
        "id": "DE2zollYenwh"
      },
      "source": [
        "Z3=conmutador(N1,N2)\n",
        "Z2=conmutador(N3,N1)\n",
        "Z1=conmutador(N2,N3)"
      ],
      "execution_count": null,
      "outputs": []
    },
    {
      "cell_type": "code",
      "metadata": {
        "id": "bnlceLIbBf4y"
      },
      "source": [
        "Z3D=conmutador(N1D,N2D)\n",
        "Z2D=conmutador(N3D,N1D)\n",
        "Z1D=conmutador(N2D,N3D)"
      ],
      "execution_count": null,
      "outputs": []
    },
    {
      "cell_type": "code",
      "metadata": {
        "id": "NAg2m2I4BQWH"
      },
      "source": [
        "Z3M=conmutador(N1,N2D)\n",
        "Z2M=conmutador(N3,N1D)\n",
        "Z1M=conmutador(N2,N3D)"
      ],
      "execution_count": null,
      "outputs": []
    },
    {
      "cell_type": "code",
      "metadata": {
        "colab": {
          "base_uri": "https://localhost:8080/"
        },
        "id": "-EzqVTEkA-yX",
        "outputId": "03c6fdb3-2c5d-4ffd-dbe7-aeba7cf78a26"
      },
      "source": [
        "print('[N1,N2]-iN3\\n',Z3-1.j*N3,'\\n')\n",
        "#\n",
        "print('[N3,N1]-iN2\\n',Z2-1.j*N2,'\\n')\n",
        "#\n",
        "print('[N2,N3]-iN1\\n',Z1-1.j*N1)"
      ],
      "execution_count": null,
      "outputs": [
        {
          "output_type": "stream",
          "text": [
            "[N1,N2]-iN3\n",
            " [[0.+0.j 0.+0.j 0.+0.j 0.+0.j]\n",
            " [0.+0.j 0.+0.j 0.+0.j 0.+0.j]\n",
            " [0.+0.j 0.+0.j 0.+0.j 0.+0.j]\n",
            " [0.+0.j 0.+0.j 0.+0.j 0.+0.j]] \n",
            "\n",
            "[N3,N1]-iN2\n",
            " [[0.+0.j 0.+0.j 0.+0.j 0.+0.j]\n",
            " [0.+0.j 0.+0.j 0.+0.j 0.+0.j]\n",
            " [0.+0.j 0.+0.j 0.+0.j 0.+0.j]\n",
            " [0.+0.j 0.+0.j 0.+0.j 0.+0.j]] \n",
            "\n",
            "[N2,N3]-iN1\n",
            " [[0.+0.j 0.+0.j 0.+0.j 0.+0.j]\n",
            " [0.+0.j 0.+0.j 0.+0.j 0.+0.j]\n",
            " [0.+0.j 0.+0.j 0.+0.j 0.+0.j]\n",
            " [0.+0.j 0.+0.j 0.+0.j 0.+0.j]]\n"
          ],
          "name": "stdout"
        }
      ]
    },
    {
      "cell_type": "code",
      "metadata": {
        "colab": {
          "base_uri": "https://localhost:8080/"
        },
        "id": "N5HItuBkBrht",
        "outputId": "803de614-6611-4808-c604-ada68f4c7885"
      },
      "source": [
        "print('[N1D,N2D]-iN2D\\n',Z3D-1.j*N3D,'\\n')\n",
        "#\n",
        "print('[N3D,N1D]-iN2D\\n',Z2D-1.j*N2D,'\\n')\n",
        "print()\n",
        "print('[N2D,N3D]-iN1D\\n',Z1D-1.j*N1D)"
      ],
      "execution_count": null,
      "outputs": [
        {
          "output_type": "stream",
          "text": [
            "[N1D,N2D]-iN2D\n",
            " [[0.+0.j 0.+0.j 0.+0.j 0.+0.j]\n",
            " [0.+0.j 0.+0.j 0.+0.j 0.+0.j]\n",
            " [0.+0.j 0.+0.j 0.+0.j 0.+0.j]\n",
            " [0.+0.j 0.+0.j 0.+0.j 0.+0.j]] \n",
            "\n",
            "[N3D,N1D]-iN2D\n",
            " [[0.+0.j 0.+0.j 0.+0.j 0.+0.j]\n",
            " [0.+0.j 0.+0.j 0.+0.j 0.+0.j]\n",
            " [0.+0.j 0.+0.j 0.+0.j 0.+0.j]\n",
            " [0.+0.j 0.+0.j 0.+0.j 0.+0.j]] \n",
            "\n",
            "\n",
            "[N2D,N3D]-iN1D\n",
            " [[0.+0.j 0.+0.j 0.+0.j 0.+0.j]\n",
            " [0.+0.j 0.+0.j 0.+0.j 0.+0.j]\n",
            " [0.+0.j 0.+0.j 0.+0.j 0.+0.j]\n",
            " [0.+0.j 0.+0.j 0.+0.j 0.+0.j]]\n"
          ],
          "name": "stdout"
        }
      ]
    },
    {
      "cell_type": "markdown",
      "metadata": {
        "id": "HckCQEY4ruSb"
      },
      "source": [
        "## Cálculo explícto de los casimires\n",
        "\n",
        "$$\n",
        "\\begin{split}\n",
        "\\mathbf{A}&=\\mathbf{N}_1^2+\\mathbf{N}_2^2+\\mathbf{N}_3^2\\\\\n",
        "%\n",
        "\\mathbf{B}&=(\\mathbf{N}_1^\\dagger)^2+(\\mathbf{N}_2^\\dagger)^2+(\\mathbf{N}_3^\\dagger)^2\\\\\n",
        "\\end{split}\n",
        "$$\n"
      ]
    },
    {
      "cell_type": "code",
      "metadata": {
        "id": "XSGAyMWesjXi"
      },
      "source": [
        "A=N1*N1+N2*N2+N3*N3\n",
        "B=N1D*N1D+N2D*N2D+N3D*N3D"
      ],
      "execution_count": null,
      "outputs": []
    },
    {
      "cell_type": "code",
      "metadata": {
        "colab": {
          "base_uri": "https://localhost:8080/"
        },
        "id": "63NSWvVa0-tS",
        "outputId": "245edfed-5556-4ad0-b1a8-ceb3ded78bcf"
      },
      "source": [
        "print('A\\n',A,'\\n')\n",
        "\n",
        "print('B\\n',B)"
      ],
      "execution_count": null,
      "outputs": [
        {
          "output_type": "stream",
          "text": [
            "A\n",
            " [[0.75+0.j 0.  +0.j 0.  +0.j 0.  +0.j]\n",
            " [0.  +0.j 0.75+0.j 0.  +0.j 0.  +0.j]\n",
            " [0.  +0.j 0.  +0.j 0.75+0.j 0.  +0.j]\n",
            " [0.  +0.j 0.  +0.j 0.  +0.j 0.75+0.j]] \n",
            "\n",
            "B\n",
            " [[0.75+0.j 0.  +0.j 0.  +0.j 0.  +0.j]\n",
            " [0.  +0.j 0.75+0.j 0.  +0.j 0.  +0.j]\n",
            " [0.  +0.j 0.  +0.j 0.75+0.j 0.  +0.j]\n",
            " [0.  +0.j 0.  +0.j 0.  +0.j 0.75+0.j]]\n"
          ],
          "name": "stdout"
        }
      ]
    },
    {
      "cell_type": "markdown",
      "metadata": {
        "id": "StNIsjpstDoP"
      },
      "source": [
        "### Interpretación\n",
        "* Los dos casimires tiene la forma\n",
        "$$\n",
        "\\frac{1}{2}(\\frac{1}{2}+1)\\,\\mathbf{I}_{4\\times{}4}\n",
        "$$\n",
        "* Recordando la teoría estándar de $su(2)$ los autovalores son $\\ell_A=1/2$ y $\\ell_2=1/2$\n",
        "* Podemos asegurar que la representación fundamental de $so(1,3)$, denominada a veces $\\mathbf{4}_v$, es la rep (1/2,1/2)"
      ]
    }
  ]
}
