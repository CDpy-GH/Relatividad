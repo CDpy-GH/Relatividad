{
  "nbformat": 4,
  "nbformat_minor": 0,
  "metadata": {
    "colab": {
      "name": "Álgebra_de_Lorentz_so(3).ipynb",
      "provenance": [],
      "collapsed_sections": [],
      "include_colab_link": true
    },
    "kernelspec": {
      "name": "python3",
      "display_name": "Python 3"
    }
  },
  "cells": [
    {
      "cell_type": "markdown",
      "metadata": {
        "id": "view-in-github",
        "colab_type": "text"
      },
      "source": [
        "<a href=\"https://colab.research.google.com/github/mario-i-caicedo-ai/Relatividad/blob/main/%C3%81lgebra_de_Lorentz_so(3).ipynb\" target=\"_parent\"><img src=\"https://colab.research.google.com/assets/colab-badge.svg\" alt=\"Open In Colab\"/></a>"
      ]
    },
    {
      "cell_type": "markdown",
      "metadata": {
        "id": "3xQ1UJOqmtGY"
      },
      "source": [
        "# Representaciones fundamentales de $so(3)$ y $so(1,3)$."
      ]
    },
    {
      "cell_type": "markdown",
      "metadata": {
        "id": "boTutwZJlNAP"
      },
      "source": [
        "## Objetivo del cuaderno: \n",
        "\n",
        "* Discutir aspectos elementales de ambas álgebras."
      ]
    },
    {
      "cell_type": "code",
      "metadata": {
        "id": "dqMOFL1VkWwz"
      },
      "source": [
        "import numpy as np"
      ],
      "execution_count": 1,
      "outputs": []
    },
    {
      "cell_type": "code",
      "metadata": {
        "id": "Gsw_PujPzTwH"
      },
      "source": [
        "def conmutador(A,B):\n",
        "  C=np.dot(A,B)-np.dot(B,A)\n",
        "  return C"
      ],
      "execution_count": 2,
      "outputs": []
    },
    {
      "cell_type": "markdown",
      "metadata": {
        "id": "Bd42B1r0ibDu"
      },
      "source": [
        "--------------------------------------------------------------"
      ]
    },
    {
      "cell_type": "markdown",
      "metadata": {
        "id": "xAF8XHeNFLwU"
      },
      "source": [
        "## A manera de recordatorio:\n",
        "\n",
        "$su(2)$:\n",
        "\n",
        "$$\n",
        "[\\mathbf{s}_{i},\\mathbf{s}_{j}]=i\\epsilon_{ijk}\\mathbf{s}_{k}$$"
      ]
    },
    {
      "cell_type": "markdown",
      "metadata": {
        "id": "MQv-fjGy7nwT"
      },
      "source": [
        "## Generadores del grupo $SO(3)$"
      ]
    },
    {
      "cell_type": "markdown",
      "metadata": {
        "id": "hKwIb5iM8Or7"
      },
      "source": [
        "* **Comentarios**\n",
        "  * Recuerde que podemos definir $SO(3)$ como el conjunto de matrices $3\\times{}3$ que conservan la métrica euclídea,\n",
        "    $$\\mathbf{M}^T\\mathbf{g}\\mathbf{T}=\\mathbf{g},\\quad{}\\mathbf{g}=diag(+,+,+)$$.\n",
        "    * Escriba un elemento del grupo $SO(3)$ cercano a la identidad $$\\mathbf{R}=\\mathbf{I}+\\boldsymbol{\\epsilon}$$ e imponga la condición definitoria del grupo sobre $\\mathbf{R}$.\n",
        "    * Obtendrá los generadores $\\mathbf{M}_i$, $i=1,2,3$ definidos a continuación  "
      ]
    },
    {
      "cell_type": "markdown",
      "metadata": {
        "id": "q2F1c1tvo1ge"
      },
      "source": [
        "\n",
        "*$$\\mathbf{M}_{1}=\\begin{pmatrix}0&0&0\\\\0&0&1\\\\0&-1&0\\end{pmatrix}\\,,\\quad\\mathbf{M}_{2}=\\begin{pmatrix}0&0&-1\\\\0&0&0\\\\1&0&0\\end{pmatrix}\\,,\\quad\\mathbf{M}_{3}=\\begin{pmatrix}0&1&0\\\\-1&0&0\\\\0&0&0\\end{pmatrix}$$\n",
        "\n",
        "\n",
        "* $\\mathbf{M}_{3}$ genera rotaciónes alrededor del eje $z$\n",
        "* **Ejercicio** Interprete el signifcado de los otros generadores\n"
      ]
    },
    {
      "cell_type": "markdown",
      "metadata": {
        "id": "ieJdlSYKUeCn"
      },
      "source": [
        "## Preparación de los generadores"
      ]
    },
    {
      "cell_type": "code",
      "metadata": {
        "id": "S2TLs2WGkcgZ"
      },
      "source": [
        "# Este paso no es muy importante en este cuaderno en particular.\n",
        "# De todas maneras, debe correr la celda.\n",
        "T12=np.matrix(\"0.,1.,0.;-1.,0.,0.;0.,0.,0.\")\n",
        "T23=np.matrix(\"0.,0.,0.;0.,0.,1.;0.,-1.,0.\")\n",
        "T31=np.matrix(\"0.,0.,-1.;0.,0.,0;1.,0.,0.\")"
      ],
      "execution_count": 3,
      "outputs": []
    },
    {
      "cell_type": "code",
      "metadata": {
        "id": "5Il-jVyoKUA7"
      },
      "source": [
        "M1=T23\n",
        "M2=T31\n",
        "M3=T12"
      ],
      "execution_count": 4,
      "outputs": []
    },
    {
      "cell_type": "markdown",
      "metadata": {
        "id": "RxPbYgrtUTMi"
      },
      "source": [
        "### La siguiente celda despliega los generadores para su verificación"
      ]
    },
    {
      "cell_type": "code",
      "metadata": {
        "colab": {
          "base_uri": "https://localhost:8080/"
        },
        "id": "v7QzIi-BUO1k",
        "outputId": "69a5c83c-e419-4ac6-dfea-39f1fb6c5078"
      },
      "source": [
        "#\n",
        "# Comparando con los bloques espaciales de los generadores de la sección 11.7 de J.D. Jackson (segunda edición)\n",
        "#\n",
        "print('M1' ,M1) #-S_1\n",
        "print()\n",
        "print('M2' ,M2) #-S_2\n",
        "print()\n",
        "print('M3' ,M3) #-S_3"
      ],
      "execution_count": 5,
      "outputs": [
        {
          "output_type": "stream",
          "text": [
            "M1 [[ 0.  0.  0.]\n",
            " [ 0.  0.  1.]\n",
            " [ 0. -1.  0.]]\n",
            "\n",
            "M2 [[ 0.  0. -1.]\n",
            " [ 0.  0.  0.]\n",
            " [ 1.  0.  0.]]\n",
            "\n",
            "M3 [[ 0.  1.  0.]\n",
            " [-1.  0.  0.]\n",
            " [ 0.  0.  0.]]\n"
          ],
          "name": "stdout"
        }
      ]
    },
    {
      "cell_type": "markdown",
      "metadata": {
        "id": "Ykcqll9xo-Yc"
      },
      "source": [
        "## Los generadores (reales) $\\mathbf{M}_i$ satisfacen el álgebra\n",
        "\n",
        "$$[\\mathbf{M}_{i},\\mathbf{M}_{j}]=-\\epsilon_{ijk}\\mathbf{J}_{k}$$"
      ]
    },
    {
      "cell_type": "markdown",
      "metadata": {
        "id": "AkC_im7KTMpF"
      },
      "source": [
        "### Verificación del álgebra"
      ]
    },
    {
      "cell_type": "code",
      "metadata": {
        "colab": {
          "base_uri": "https://localhost:8080/"
        },
        "id": "6S1RIvWwloIQ",
        "outputId": "22db613e-e1a9-4a72-b4e8-f42ee41af594"
      },
      "source": [
        "A=conmutador(M1,M2)\n",
        "B=conmutador(M2,M3)\n",
        "C=conmutador(M3,M1)\n",
        "\n",
        "print(A+M3)\n",
        "\n",
        "print(B+M1)\n",
        "\n",
        "print(C+M2)"
      ],
      "execution_count": 6,
      "outputs": [
        {
          "output_type": "stream",
          "text": [
            "[[0. 0. 0.]\n",
            " [0. 0. 0.]\n",
            " [0. 0. 0.]]\n",
            "[[0. 0. 0.]\n",
            " [0. 0. 0.]\n",
            " [0. 0. 0.]]\n",
            "[[0. 0. 0.]\n",
            " [0. 0. 0.]\n",
            " [0. 0. 0.]]\n"
          ],
          "name": "stdout"
        }
      ]
    },
    {
      "cell_type": "markdown",
      "metadata": {
        "id": "Spp3Odu05V4H"
      },
      "source": [
        "## Generadores Hermíticos\n",
        "* $\\mathbf{J}_{i}\\rightarrow{}-i\\mathbf{M}_{i}$\n",
        "* Álgebra\n",
        "$$[\\mathbf{J}_{i},\\mathbf{J}_{j}]=i\\epsilon_{ijk}\\mathbf{J}_{k}$$\n",
        "* $so(3)$ es isomorfa al álgebra $su(2)$"
      ]
    },
    {
      "cell_type": "markdown",
      "metadata": {
        "id": "mEGGCA7cmQca"
      },
      "source": [
        "* Generadores hermíticos ($\\mathbf{J}_i$) en forma explícita"
      ]
    },
    {
      "cell_type": "markdown",
      "metadata": {
        "id": "ErTc9pKzvlSm"
      },
      "source": [
        "\n",
        "*$$\\begin{split}\n",
        "\\mathbf{J}_{1}=-i\\begin{pmatrix}0&0&0\\\\0&0&1\\\\0&-1&0\\end{pmatrix}=&\\begin{pmatrix}0&0&0\\\\0&0&-i\\\\0&i&0\\end{pmatrix}\\,,\\quad\\mathbf{J}_{2}=-i\\begin{pmatrix}0&0&-1\\\\0&0&0\\\\1&0&0\\end{pmatrix}=\\begin{pmatrix}0&0&i\\\\0&0&0\\\\-i&0&0\\end{pmatrix}\\\\\n",
        "%\n",
        "\\mathbf{J}_{3}&=-i\\begin{pmatrix}0&1&0\\\\-1&0&0\\\\0&0&0\\end{pmatrix}=\\begin{pmatrix}0&-i&0\\\\i&0&0\\\\0&0&0\\end{pmatrix}\n",
        "\\end{split}$$\n"
      ]
    },
    {
      "cell_type": "markdown",
      "metadata": {
        "id": "9V8TUCdpVHUD"
      },
      "source": [
        "## Definición de los generadores hermíticos."
      ]
    },
    {
      "cell_type": "code",
      "metadata": {
        "id": "G3Dis9Nf5VZ_"
      },
      "source": [
        "J1=-1.j*M1\n",
        "J2=-1.j*M2\n",
        "J3=-1.j*M3"
      ],
      "execution_count": 7,
      "outputs": []
    },
    {
      "cell_type": "markdown",
      "metadata": {
        "id": "tVbRQRy1VRzW"
      },
      "source": [
        "## Despliegue"
      ]
    },
    {
      "cell_type": "code",
      "metadata": {
        "colab": {
          "base_uri": "https://localhost:8080/"
        },
        "id": "5X-ut5VJVVHt",
        "outputId": "af39d2c2-abeb-4e1f-cdcb-71bd12251193"
      },
      "source": [
        "\n",
        "print('J1 ',J1)\n",
        "print()\n",
        "print('J2 ',J2)\n",
        "print()\n",
        "print('J3 ',J3)"
      ],
      "execution_count": 8,
      "outputs": [
        {
          "output_type": "stream",
          "text": [
            "J1  [[0.+0.j 0.+0.j 0.+0.j]\n",
            " [0.+0.j 0.+0.j 0.-1.j]\n",
            " [0.+0.j 0.+1.j 0.+0.j]]\n",
            "\n",
            "J2  [[0.+0.j 0.+0.j 0.+1.j]\n",
            " [0.+0.j 0.+0.j 0.+0.j]\n",
            " [0.-1.j 0.+0.j 0.+0.j]]\n",
            "\n",
            "J3  [[0.+0.j 0.-1.j 0.+0.j]\n",
            " [0.+1.j 0.+0.j 0.+0.j]\n",
            " [0.+0.j 0.+0.j 0.+0.j]]\n"
          ],
          "name": "stdout"
        }
      ]
    },
    {
      "cell_type": "markdown",
      "metadata": {
        "id": "4ak-5PbvmifK"
      },
      "source": [
        "* Verificación del álgebra"
      ]
    },
    {
      "cell_type": "code",
      "metadata": {
        "id": "c3MCoDh2md3Q"
      },
      "source": [
        "A=conmutador(J1,J2)\n",
        "B=conmutador(J2,J3)\n",
        "C=conmutador(J3,J1)"
      ],
      "execution_count": 9,
      "outputs": []
    },
    {
      "cell_type": "code",
      "metadata": {
        "colab": {
          "base_uri": "https://localhost:8080/"
        },
        "id": "Ro4ygZB56Pww",
        "outputId": "44065667-fdcf-48f1-c927-6094e3b3bbb2"
      },
      "source": [
        "print(A-1.j*(J3))\n",
        "print()\n",
        "print(B-1.j*J1)\n",
        "print()\n",
        "print(C-1.j*J2)"
      ],
      "execution_count": 10,
      "outputs": [
        {
          "output_type": "stream",
          "text": [
            "[[0.+0.j 0.+0.j 0.+0.j]\n",
            " [0.+0.j 0.+0.j 0.+0.j]\n",
            " [0.+0.j 0.+0.j 0.+0.j]]\n",
            "\n",
            "[[0.+0.j 0.+0.j 0.+0.j]\n",
            " [0.+0.j 0.+0.j 0.+0.j]\n",
            " [0.+0.j 0.+0.j 0.+0.j]]\n",
            "\n",
            "[[0.+0.j 0.+0.j 0.+0.j]\n",
            " [0.+0.j 0.+0.j 0.+0.j]\n",
            " [0.+0.j 0.+0.j 0.+0.j]]\n"
          ],
          "name": "stdout"
        }
      ]
    },
    {
      "cell_type": "markdown",
      "metadata": {
        "id": "5Mjv_L_Ahs-J"
      },
      "source": [
        "-----------------------------------------------"
      ]
    },
    {
      "cell_type": "markdown",
      "metadata": {
        "id": "XZNCz-PXTT43"
      },
      "source": [
        "# Álgebra del grupo de Lorentz"
      ]
    },
    {
      "cell_type": "markdown",
      "metadata": {
        "id": "86-xPziU9JfL"
      },
      "source": [
        "**Comentarios**\n",
        "\n",
        "* $SO(1,3)$ se define como el grupo de matrices reales $4\\times{}4$ que dejan invariante la métrica $\\eta=diag(+,-,-,-)$.\n",
        "* La representación fundamental (**4**) es tetradimensional.\n",
        "* $dim[SO(1,3)]=6$\n",
        "* Hay dos conjuntos de generadores, uno se asocia con +boosts+ y el otro con rotaciones."
      ]
    },
    {
      "cell_type": "markdown",
      "metadata": {
        "id": "frzUlvmLtWA3"
      },
      "source": [
        "## Generadores (hermíticos) de los Boosts\n",
        "\n",
        "* [$\\mathbf{J}_{0i}$], $i=1,2,3$\n",
        "* Luego redefiniremos $\\mathbf{K}_{i}=\\mathbf{J}_{0i}$"
      ]
    },
    {
      "cell_type": "code",
      "metadata": {
        "id": "aesW2pJ3HQ1L"
      },
      "source": [
        "# Como antes, no es necesario que usted entienda esta celda, \n",
        "#es solo una preparación interna del programador.\n",
        "# De todas maneras, debe ejecutarla\n",
        "J01 = 1.j*np.matrix(\"0.,1.,0.,0.;1.,0.,0.,0.;0.,0.,0.,0.;0.,0.,0.,0.\")\n",
        "J02 = 1.j*np.matrix(\"0.,0.,1.,0.;0.,0.,0.,0.;1.,0.,0.,0.;0.,0.,0.,0.\")\n",
        "J03 = 1.j*np.matrix(\"0.,0.,0.,1.;0.,0.,0.,0.;0.,0.,0.,0.;1.,0.,0.,0.\")"
      ],
      "execution_count": 11,
      "outputs": []
    },
    {
      "cell_type": "markdown",
      "metadata": {
        "id": "BuQp4-_ncYjy"
      },
      "source": [
        "$$\n",
        "\\mathbf{J}_{01}=\\mathbf{K}_{1}=i\\,\n",
        "%\n",
        "\\begin{pmatrix}\n",
        "0&1&0&0\\\\\n",
        "1&0&0&0\\\\\n",
        "0&0&0&0\\\\\n",
        "0&0&0&0\n",
        "\\end{pmatrix}\\,,\n",
        "\\qquad{}\n",
        "\\mathbf{J}_{02}=\\mathbf{K}_{2}=i\\,\n",
        "%\n",
        "\\begin{pmatrix}\n",
        "0&0&1&0\\\\\n",
        "0&0&0&0\\\\\n",
        "1&0&0&0\\\\\n",
        "0&0&0&0\n",
        "\\end{pmatrix}\n",
        "\\,,\\quad{}\\mathbf{J}_{03}=\\mathbf{K}_{3}=i\\,\n",
        "%\n",
        "\\begin{pmatrix}\n",
        "0&0&0&1\\\\\n",
        "0&0&0&0\\\\\n",
        "0&0&0&0\\\\\n",
        "1&0&0&0\n",
        "\\end{pmatrix}\n",
        "$$\n"
      ]
    },
    {
      "cell_type": "code",
      "metadata": {
        "colab": {
          "base_uri": "https://localhost:8080/"
        },
        "id": "onvDbltAyJUz",
        "outputId": "4e37905b-4e66-4d27-f7c3-4bdf886440bc"
      },
      "source": [
        "print('K1 ',J01)\n",
        "print()\n",
        "print('K2 ',J02)\n",
        "print()\n",
        "print('K3 ',J03)"
      ],
      "execution_count": 12,
      "outputs": [
        {
          "output_type": "stream",
          "text": [
            "K1  [[0.+0.j 0.+1.j 0.+0.j 0.+0.j]\n",
            " [0.+1.j 0.+0.j 0.+0.j 0.+0.j]\n",
            " [0.+0.j 0.+0.j 0.+0.j 0.+0.j]\n",
            " [0.+0.j 0.+0.j 0.+0.j 0.+0.j]]\n",
            "\n",
            "K2  [[0.+0.j 0.+0.j 0.+1.j 0.+0.j]\n",
            " [0.+0.j 0.+0.j 0.+0.j 0.+0.j]\n",
            " [0.+1.j 0.+0.j 0.+0.j 0.+0.j]\n",
            " [0.+0.j 0.+0.j 0.+0.j 0.+0.j]]\n",
            "\n",
            "K3  [[0.+0.j 0.+0.j 0.+0.j 0.+1.j]\n",
            " [0.+0.j 0.+0.j 0.+0.j 0.+0.j]\n",
            " [0.+0.j 0.+0.j 0.+0.j 0.+0.j]\n",
            " [0.+1.j 0.+0.j 0.+0.j 0.+0.j]]\n"
          ],
          "name": "stdout"
        }
      ]
    },
    {
      "cell_type": "markdown",
      "metadata": {
        "id": "_UqyyxNm4UnZ"
      },
      "source": [
        "## Generadores (reales) de las rotaciones\n",
        "\n",
        "* $\\mathbf{N}_{ij}=-\\mathbf{N}_{ji}$, $i,j=1,2,3$ son tres en total \n",
        "* Luego definiremos nuevos generadores $\\mathbf{R}_{i}$  "
      ]
    },
    {
      "cell_type": "code",
      "metadata": {
        "id": "jSC8auvfBpbd"
      },
      "source": [
        "# Este paso no es fundamental. \n",
        "# Debe correr la celda.\n",
        "N12 = np.matrix(\"0.,0.,0.,0.;0.,0.,1.,0.;0.,-1.,0.,0.;0.,0.,0.,0.\")\n",
        "N23 = np.matrix(\"0.,0.,0.,0.;0.,0.,0.,0.;0.,0.,0.,1.;0.,0.,-1.,0.\")\n",
        "N31 = np.matrix(\"0.,0.,0.,0.;0.,0.,0.,-1.;0.,0.,0.,0.;0.,1.,0.,0.\")"
      ],
      "execution_count": 13,
      "outputs": []
    },
    {
      "cell_type": "code",
      "metadata": {
        "colab": {
          "base_uri": "https://localhost:8080/"
        },
        "id": "qNlljcZMXVPo",
        "outputId": "aa0ed525-1ebc-401f-ff3c-bf0f6bb5e8f1"
      },
      "source": [
        "# No es necesario ejecutar esta celda.\n",
        "# Comparación de estas matrices con los generadores \n",
        "# espaciales S_i de Jackson, sec 11.7\n",
        "print('N12 ',N12) # -S_3 \n",
        "print()\n",
        "print('N23 ',N23) # -S_1\n",
        "print()\n",
        "print('N31 ',N31) # -S2"
      ],
      "execution_count": 14,
      "outputs": [
        {
          "output_type": "stream",
          "text": [
            "N12  [[ 0.  0.  0.  0.]\n",
            " [ 0.  0.  1.  0.]\n",
            " [ 0. -1.  0.  0.]\n",
            " [ 0.  0.  0.  0.]]\n",
            "\n",
            "N23  [[ 0.  0.  0.  0.]\n",
            " [ 0.  0.  0.  0.]\n",
            " [ 0.  0.  0.  1.]\n",
            " [ 0.  0. -1.  0.]]\n",
            "\n",
            "N31  [[ 0.  0.  0.  0.]\n",
            " [ 0.  0.  0. -1.]\n",
            " [ 0.  0.  0.  0.]\n",
            " [ 0.  1.  0.  0.]]\n"
          ],
          "name": "stdout"
        }
      ]
    },
    {
      "cell_type": "markdown",
      "metadata": {
        "id": "i9PjD1Uj5lBp"
      },
      "source": [
        "## Definición de los generadores de rotaciones\n",
        "\n",
        "* $$R_i=\\frac{1}{2}\\epsilon_{ijk}N_{jk}$$\n",
        "* $$R_1=N_{23}\\,,\\quad{}R_2=N_{31}\\,,\\quad{}R_3=N_{12}$$\n",
        "* Álgebra:\n",
        "$$[R_i,R_j]=-\\epsilon_{ijk}R_k$$"
      ]
    },
    {
      "cell_type": "markdown",
      "metadata": {
        "id": "MW91GJ_c6xwM"
      },
      "source": [
        "$$R_1=\\begin{pmatrix}0&0&0&0\\\\0&0&0&0\\\\0&0&0&-1\\\\0&0&1&0\\end{pmatrix}\\,\\quad{}R_2=\\begin{pmatrix}0&0&0&0\\\\0&0&0&-1\\\\0&0&0&0\\\\0&1&0&0\\end{pmatrix}$$\n",
        "\n",
        "$$R_3=\\begin{pmatrix}0&0&0&0\\\\0&0&1&0\\\\0&-1&0&0\\\\0&0&0&0\\end{pmatrix}$$"
      ]
    },
    {
      "cell_type": "code",
      "metadata": {
        "id": "OxlM5pQ3csKe"
      },
      "source": [
        "R1 = N23\n",
        "R2 = N31\n",
        "R3 = N12"
      ],
      "execution_count": 15,
      "outputs": []
    },
    {
      "cell_type": "markdown",
      "metadata": {
        "id": "ppTPdO5UXpP7"
      },
      "source": [
        "## Despliegue de los generadores"
      ]
    },
    {
      "cell_type": "code",
      "metadata": {
        "colab": {
          "base_uri": "https://localhost:8080/"
        },
        "id": "bwbAmI9kXuq0",
        "outputId": "d221978d-61a6-48ac-ed45-ccbae34dfa2a"
      },
      "source": [
        "print('R1 ',R1)\n",
        "print()\n",
        "print('R2 ',R2)\n",
        "print()\n",
        "print('R3 ',R3)"
      ],
      "execution_count": 16,
      "outputs": [
        {
          "output_type": "stream",
          "text": [
            "R1  [[ 0.  0.  0.  0.]\n",
            " [ 0.  0.  0.  0.]\n",
            " [ 0.  0.  0.  1.]\n",
            " [ 0.  0. -1.  0.]]\n",
            "\n",
            "R2  [[ 0.  0.  0.  0.]\n",
            " [ 0.  0.  0. -1.]\n",
            " [ 0.  0.  0.  0.]\n",
            " [ 0.  1.  0.  0.]]\n",
            "\n",
            "R3  [[ 0.  0.  0.  0.]\n",
            " [ 0.  0.  1.  0.]\n",
            " [ 0. -1.  0.  0.]\n",
            " [ 0.  0.  0.  0.]]\n"
          ],
          "name": "stdout"
        }
      ]
    },
    {
      "cell_type": "markdown",
      "metadata": {
        "id": "RltVlhsFAdGn"
      },
      "source": [
        "## Verificación del Álgebra"
      ]
    },
    {
      "cell_type": "code",
      "metadata": {
        "id": "s8VadTXN2AyQ"
      },
      "source": [
        "V3=conmutador(R1,R2)\n",
        "V2=conmutador(R3,R1)\n",
        "V1=conmutador(R2,R3)"
      ],
      "execution_count": 17,
      "outputs": []
    },
    {
      "cell_type": "code",
      "metadata": {
        "colab": {
          "base_uri": "https://localhost:8080/"
        },
        "id": "8h5O9Mgb229q",
        "outputId": "b394c12b-3fe9-4ce8-b190-d3c82bf28d35"
      },
      "source": [
        "print(V3+R3)\n",
        "print()\n",
        "print(V2+R2)\n",
        "print()\n",
        "print(V1+R1)"
      ],
      "execution_count": 18,
      "outputs": [
        {
          "output_type": "stream",
          "text": [
            "[[0. 0. 0. 0.]\n",
            " [0. 0. 0. 0.]\n",
            " [0. 0. 0. 0.]\n",
            " [0. 0. 0. 0.]]\n",
            "\n",
            "[[0. 0. 0. 0.]\n",
            " [0. 0. 0. 0.]\n",
            " [0. 0. 0. 0.]\n",
            " [0. 0. 0. 0.]]\n",
            "\n",
            "[[0. 0. 0. 0.]\n",
            " [0. 0. 0. 0.]\n",
            " [0. 0. 0. 0.]\n",
            " [0. 0. 0. 0.]]\n"
          ],
          "name": "stdout"
        }
      ]
    },
    {
      "cell_type": "markdown",
      "metadata": {
        "id": "nnR9XR59dVsL"
      },
      "source": [
        "$$K_i\\equiv{}J_{0i}$$"
      ]
    },
    {
      "cell_type": "markdown",
      "metadata": {
        "id": "ODW2gcbudlXz"
      },
      "source": [
        "$$J_i=\\frac{1}{2}\\epsilon_{ijk}T_{jk}$$\n",
        "\n",
        "$$J_1=T_{23}\\,,\\quad{}J_2=T_{31}\\,,\\quad{}J_3=T_{12}$$"
      ]
    },
    {
      "cell_type": "markdown",
      "metadata": {
        "id": "tCD7043TYAyl"
      },
      "source": [
        "# Generadores hermíticos de $so(1,3)$ \n",
        "\n",
        "* Los generadores $\\mathbf{J}_{0j}$ ya se definieron como hermíticos."
      ]
    },
    {
      "cell_type": "markdown",
      "metadata": {
        "id": "hBPR52qpYIxL"
      },
      "source": [
        "#  $\\mathbf{K}_i$"
      ]
    },
    {
      "cell_type": "code",
      "metadata": {
        "id": "SiPnIJAVVpOz",
        "colab": {
          "base_uri": "https://localhost:8080/"
        },
        "outputId": "3e1ea313-bf52-43e7-fc54-943490073463"
      },
      "source": [
        "K1=J01\n",
        "K2=J02\n",
        "K3=J03\n",
        "print(np.dot(R3,K1))"
      ],
      "execution_count": 19,
      "outputs": [
        {
          "output_type": "stream",
          "text": [
            "[[0.+0.j 0.+0.j 0.+0.j 0.+0.j]\n",
            " [0.+0.j 0.+0.j 0.+0.j 0.+0.j]\n",
            " [0.-1.j 0.+0.j 0.+0.j 0.+0.j]\n",
            " [0.+0.j 0.+0.j 0.+0.j 0.+0.j]]\n"
          ],
          "name": "stdout"
        }
      ]
    },
    {
      "cell_type": "markdown",
      "metadata": {
        "id": "SzaWagdYYdtz"
      },
      "source": [
        "# $\\mathbf{R}_i$ "
      ]
    },
    {
      "cell_type": "code",
      "metadata": {
        "id": "i7_axhpr3d71"
      },
      "source": [
        "J1=1.j*R1\n",
        "J2=1.j*R2\n",
        "J3=1.j*R3"
      ],
      "execution_count": 20,
      "outputs": []
    },
    {
      "cell_type": "markdown",
      "metadata": {
        "id": "RUbrqbOJlF7E"
      },
      "source": [
        "# Álgebra de Lie\n",
        "$$\n",
        "\\begin{split}\n",
        "[\\mathbf{J}_{i},\\mathbf{J}_{j}]&=-i\\epsilon_{ijk}\\mathbf{J}_{k}\n",
        "\\\\\n",
        "[\\mathbf{K}_{i},\\mathbf{K}_{j}]&=i\\epsilon_{ijk}\\mathbf{J}_{k}\\\\\n",
        "%\n",
        "[\\mathbf{J}_{i},\\mathbf{K}_{j}]&=-i\\epsilon_{ijk}\\mathbf{K}_{k}\n",
        "\\end{split}\n",
        "$$"
      ]
    },
    {
      "cell_type": "markdown",
      "metadata": {
        "id": "I9jDw7A7BIb3"
      },
      "source": [
        "## Observaciones\n",
        "* Como es de esperarse, los $\\mathbf{J}_{i}$ constituyen una subálgebra de rotaciones \n",
        "* Con las redifiniciones que hemos introducido, $so(3)$ revela que el conmutador de dos boosts es una rotación, lo cuál tiene importantes consecuencias físicas (la precesión de Thomas es un ejemplo).\n",
        "* Los boosts se comportan como vectores bajo rotaciones"
      ]
    },
    {
      "cell_type": "markdown",
      "metadata": {
        "id": "SprHY5tJCN0n"
      },
      "source": [
        "---------------------------------------------------------------"
      ]
    },
    {
      "cell_type": "markdown",
      "metadata": {
        "id": "yClhblyrCRsG"
      },
      "source": [
        "## **Verificación del álgebra**"
      ]
    },
    {
      "cell_type": "markdown",
      "metadata": {
        "id": "GUHArgBxdXeQ"
      },
      "source": [
        "-------------------------------------------------------------------\n",
        "$$\n",
        "[\\mathbf{J}_{i},\\mathbf{J}_{j}]=-i\\epsilon_{ijk}\\mathbf{J}_{k}\n",
        "$$"
      ]
    },
    {
      "cell_type": "code",
      "metadata": {
        "colab": {
          "base_uri": "https://localhost:8080/"
        },
        "id": "N3kDmQ_LJ0YT",
        "outputId": "4e7c59c1-d2f9-43f0-da19-f0765850f926"
      },
      "source": [
        "X3=conmutador(J1,J2)\n",
        "X2=conmutador(J3,J1)\n",
        "X1=conmutador(J2,J3)\n",
        "\n",
        "print(X3+1.j*J3)\n",
        "print()\n",
        "print(X2+1.j*J2)\n",
        "print()\n",
        "print(X1+1.j*J1)"
      ],
      "execution_count": 21,
      "outputs": [
        {
          "output_type": "stream",
          "text": [
            "[[0.+0.j 0.+0.j 0.+0.j 0.+0.j]\n",
            " [0.+0.j 0.+0.j 0.+0.j 0.+0.j]\n",
            " [0.+0.j 0.+0.j 0.+0.j 0.+0.j]\n",
            " [0.+0.j 0.+0.j 0.+0.j 0.+0.j]]\n",
            "\n",
            "[[0.+0.j 0.+0.j 0.+0.j 0.+0.j]\n",
            " [0.+0.j 0.+0.j 0.+0.j 0.+0.j]\n",
            " [0.+0.j 0.+0.j 0.+0.j 0.+0.j]\n",
            " [0.+0.j 0.+0.j 0.+0.j 0.+0.j]]\n",
            "\n",
            "[[0.+0.j 0.+0.j 0.+0.j 0.+0.j]\n",
            " [0.+0.j 0.+0.j 0.+0.j 0.+0.j]\n",
            " [0.+0.j 0.+0.j 0.+0.j 0.+0.j]\n",
            " [0.+0.j 0.+0.j 0.+0.j 0.+0.j]]\n"
          ],
          "name": "stdout"
        }
      ]
    },
    {
      "cell_type": "markdown",
      "metadata": {
        "id": "BaAIyw9OdUgJ"
      },
      "source": [
        "-------------------------------------------------------------------\n",
        "$$\n",
        "[\\mathbf{K}_{i},\\mathbf{K}_{j}]=i\\epsilon_{ijk}\\mathbf{J}_{k}\n",
        "$$"
      ]
    },
    {
      "cell_type": "code",
      "metadata": {
        "colab": {
          "base_uri": "https://localhost:8080/"
        },
        "id": "Nq-MG3Rhkue2",
        "outputId": "b7d7960c-613d-4b29-ebb3-6c2d75578f19"
      },
      "source": [
        "Y3=conmutador(K1,K2)\n",
        "Y2=conmutador(K3,K1)\n",
        "Y1=conmutador(K2,K3) \n",
        "\n",
        "print(Y3-1.j*J3)\n",
        "print()\n",
        "print(Y2-1.j*J2)\n",
        "print()\n",
        "print(Y1-1.j*J1)\n",
        "print()"
      ],
      "execution_count": 22,
      "outputs": [
        {
          "output_type": "stream",
          "text": [
            "[[0.+0.j 0.+0.j 0.+0.j 0.+0.j]\n",
            " [0.+0.j 0.+0.j 0.+0.j 0.+0.j]\n",
            " [0.+0.j 0.+0.j 0.+0.j 0.+0.j]\n",
            " [0.+0.j 0.+0.j 0.+0.j 0.+0.j]]\n",
            "\n",
            "[[0.+0.j 0.+0.j 0.+0.j 0.+0.j]\n",
            " [0.+0.j 0.+0.j 0.+0.j 0.+0.j]\n",
            " [0.+0.j 0.+0.j 0.+0.j 0.+0.j]\n",
            " [0.+0.j 0.+0.j 0.+0.j 0.+0.j]]\n",
            "\n",
            "[[0.+0.j 0.+0.j 0.+0.j 0.+0.j]\n",
            " [0.+0.j 0.+0.j 0.+0.j 0.+0.j]\n",
            " [0.+0.j 0.+0.j 0.+0.j 0.+0.j]\n",
            " [0.+0.j 0.+0.j 0.+0.j 0.+0.j]]\n",
            "\n"
          ],
          "name": "stdout"
        }
      ]
    },
    {
      "cell_type": "markdown",
      "metadata": {
        "id": "nDjPDf8Ld5Wk"
      },
      "source": [
        "-------------------------------------------------------------------\n",
        "$$\n",
        "[\\mathbf{J}_{i},\\mathbf{K}_{j}]=-i\\epsilon_{ijk}\\mathbf{K}_{k}\n",
        "$$"
      ]
    },
    {
      "cell_type": "code",
      "metadata": {
        "colab": {
          "base_uri": "https://localhost:8080/"
        },
        "id": "T-x1subVcnHQ",
        "outputId": "0d8514dc-f548-423f-8c7c-5e4e5a741fb8"
      },
      "source": [
        "W3=conmutador(J1,K2)\n",
        "W2=conmutador(J3,K1)\n",
        "W1=conmutador(J2,K3)\n",
        "\n",
        "print(W3+1.j*K3)\n",
        "print()\n",
        "print(W2+1.j*K2)\n",
        "print()\n",
        "print(W1+1.j*K1)"
      ],
      "execution_count": 23,
      "outputs": [
        {
          "output_type": "stream",
          "text": [
            "[[0.+0.j 0.+0.j 0.+0.j 0.+0.j]\n",
            " [0.+0.j 0.+0.j 0.+0.j 0.+0.j]\n",
            " [0.+0.j 0.+0.j 0.+0.j 0.+0.j]\n",
            " [0.+0.j 0.+0.j 0.+0.j 0.+0.j]]\n",
            "\n",
            "[[0.+0.j 0.+0.j 0.+0.j 0.+0.j]\n",
            " [0.+0.j 0.+0.j 0.+0.j 0.+0.j]\n",
            " [0.+0.j 0.+0.j 0.+0.j 0.+0.j]\n",
            " [0.+0.j 0.+0.j 0.+0.j 0.+0.j]]\n",
            "\n",
            "[[0.+0.j 0.+0.j 0.+0.j 0.+0.j]\n",
            " [0.+0.j 0.+0.j 0.+0.j 0.+0.j]\n",
            " [0.+0.j 0.+0.j 0.+0.j 0.+0.j]\n",
            " [0.+0.j 0.+0.j 0.+0.j 0.+0.j]]\n"
          ],
          "name": "stdout"
        }
      ]
    },
    {
      "cell_type": "markdown",
      "metadata": {
        "id": "n7YHUPovQb62"
      },
      "source": [
        "# Nueva Base del Álgebra"
      ]
    },
    {
      "cell_type": "markdown",
      "metadata": {
        "id": "hd9BicnSCcFj"
      },
      "source": [
        "* Es conveniete introducir el siguiente cambio de base"
      ]
    },
    {
      "cell_type": "markdown",
      "metadata": {
        "id": "W8EoysGJeAcD"
      },
      "source": [
        "$$\n",
        "\\begin{split}\n",
        "\\mathbf{N}_i=\\frac{1}{2}(\\mathbf{J}_i+i\\mathbf{K}_i)\\\\\n",
        "%\n",
        "\\mathbf{N}_i^\\dagger=\\frac{1}{2}(\\mathbf{J}_i-i\\mathbf{K}_i)\n",
        "\\end{split}\n",
        "$$"
      ]
    },
    {
      "cell_type": "markdown",
      "metadata": {
        "id": "28GKYUDjQl2i"
      },
      "source": [
        "## En esta nueva base:\n",
        "* $so(1,3)$ toma la forma\n",
        "$$\n",
        "\\begin{split}\n",
        "[\\mathbf{N}_i,\\mathbf{N}_j]&=-i\\epsilon_{ijk}\\mathbf{N}_k\\\\\n",
        "%\n",
        "[\\mathbf{N}^\\dagger_i,\\mathbf{N}_j]&=0\\\\\n",
        "%\n",
        "[\\mathbf{N}^\\dagger_i,\\mathbf{N}^\\dagger_j]&=-i\\epsilon_{ijk}\\mathbf{N}^\\dagger_k\\\\\n",
        "\\end{split}\n",
        "$$\n",
        "* Interpretación: \n",
        "  * El álgebra se descompone como dos subálegebras $su(2)$ independietes.$$so(1,3)=su(2)\\oplus{}su(2)$$\n",
        "* Consecuencia: las representaciones pueden etiquetarse con los autovalores de los casimires: $A=\\sum_i\\,\\mathbf{N}_i$, $B=\\sum_i\\mathbf{N}^\\dagger_i\\mathbf{N}^\\dagger_i$\n",
        "* Autovalores: $\\ell_a(\\ell_a+1)\\,,\\quad\\ell_b(\\ell_a+1)$. $\\ell_a=0,1/2,1,3/2,...$ (igual para $\\ell_b$) \n",
        "* La notación para las representaciones es: $(\\ell_a,\\ell_b)$"
      ]
    },
    {
      "cell_type": "code",
      "metadata": {
        "id": "qCGcUipCsR6o"
      },
      "source": [
        "N1=(J1+1.j*K1)/2\n",
        "N2=(J2+1.j*K2)/2\n",
        "N3=(J3+1.j*K3)/2\n",
        "\n",
        "DN1=(J1-1.j*K1)/2 #D por daga\n",
        "DN2=(J2-1.j*K2)/2\n",
        "DN3=(J3-1.j*K3)/2"
      ],
      "execution_count": 24,
      "outputs": []
    },
    {
      "cell_type": "code",
      "metadata": {
        "colab": {
          "base_uri": "https://localhost:8080/"
        },
        "id": "DE2zollYenwh",
        "outputId": "3be944d8-40f5-44a9-aa61-eddb04072d63"
      },
      "source": [
        "Z3=conmutador(N1,N2)\n",
        "Z2=conmutador(N3,N1)\n",
        "Z1=conmutador(N2,N3)\n",
        "\n",
        "print(Z3+1.j*N3)\n",
        "print()\n",
        "print(Z2+1.j*N2)\n",
        "print()\n",
        "print(Z1+1.j*N1)"
      ],
      "execution_count": 25,
      "outputs": [
        {
          "output_type": "stream",
          "text": [
            "[[0.+0.j 0.+0.j 0.+0.j 0.+0.j]\n",
            " [0.+0.j 0.+0.j 0.+0.j 0.+0.j]\n",
            " [0.+0.j 0.+0.j 0.+0.j 0.+0.j]\n",
            " [0.+0.j 0.+0.j 0.+0.j 0.+0.j]]\n",
            "\n",
            "[[0.+0.j 0.+0.j 0.+0.j 0.+0.j]\n",
            " [0.+0.j 0.+0.j 0.+0.j 0.+0.j]\n",
            " [0.+0.j 0.+0.j 0.+0.j 0.+0.j]\n",
            " [0.+0.j 0.+0.j 0.+0.j 0.+0.j]]\n",
            "\n",
            "[[0.+0.j 0.+0.j 0.+0.j 0.+0.j]\n",
            " [0.+0.j 0.+0.j 0.+0.j 0.+0.j]\n",
            " [0.+0.j 0.+0.j 0.+0.j 0.+0.j]\n",
            " [0.+0.j 0.+0.j 0.+0.j 0.+0.j]]\n"
          ],
          "name": "stdout"
        }
      ]
    },
    {
      "cell_type": "code",
      "metadata": {
        "colab": {
          "base_uri": "https://localhost:8080/"
        },
        "id": "wE3nQxyBOpKX",
        "outputId": "1d76a057-dfe7-4a05-a02a-4de57ad65876"
      },
      "source": [
        "DZ3=conmutador(DN1,DN2)\n",
        "DZ2=conmutador(DN3,DN1)\n",
        "DZ1=conmutador(DN2,DN3)\n",
        "\n",
        "print(DZ3+1.j*DN3)\n",
        "print()\n",
        "print(DZ2+1.j*DN2)\n",
        "print()\n",
        "print(DZ1+1.j*DN1)"
      ],
      "execution_count": 26,
      "outputs": [
        {
          "output_type": "stream",
          "text": [
            "[[0.+0.j 0.+0.j 0.+0.j 0.+0.j]\n",
            " [0.+0.j 0.+0.j 0.+0.j 0.+0.j]\n",
            " [0.+0.j 0.+0.j 0.+0.j 0.+0.j]\n",
            " [0.+0.j 0.+0.j 0.+0.j 0.+0.j]]\n",
            "\n",
            "[[0.+0.j 0.+0.j 0.+0.j 0.+0.j]\n",
            " [0.+0.j 0.+0.j 0.+0.j 0.+0.j]\n",
            " [0.+0.j 0.+0.j 0.+0.j 0.+0.j]\n",
            " [0.+0.j 0.+0.j 0.+0.j 0.+0.j]]\n",
            "\n",
            "[[0.+0.j 0.+0.j 0.+0.j 0.+0.j]\n",
            " [0.+0.j 0.+0.j 0.+0.j 0.+0.j]\n",
            " [0.+0.j 0.+0.j 0.+0.j 0.+0.j]\n",
            " [0.+0.j 0.+0.j 0.+0.j 0.+0.j]]\n"
          ],
          "name": "stdout"
        }
      ]
    },
    {
      "cell_type": "code",
      "metadata": {
        "colab": {
          "base_uri": "https://localhost:8080/"
        },
        "id": "R3uAMIguPAkh",
        "outputId": "dad0ec94-8f81-468e-a568-7c924ad33843"
      },
      "source": [
        "MZ3=conmutador(DN1,N2) # M por mixed\n",
        "MZ2=conmutador(DN3,N1)\n",
        "MZ1=conmutador(DN2,N3)\n",
        "\n",
        "print(MZ3)\n",
        "print()\n",
        "print(MZ2)\n",
        "print()\n",
        "print(MZ1)"
      ],
      "execution_count": 27,
      "outputs": [
        {
          "output_type": "stream",
          "text": [
            "[[0.+0.j 0.+0.j 0.+0.j 0.+0.j]\n",
            " [0.+0.j 0.+0.j 0.+0.j 0.+0.j]\n",
            " [0.+0.j 0.+0.j 0.+0.j 0.+0.j]\n",
            " [0.+0.j 0.+0.j 0.+0.j 0.+0.j]]\n",
            "\n",
            "[[0.+0.j 0.+0.j 0.+0.j 0.+0.j]\n",
            " [0.+0.j 0.+0.j 0.+0.j 0.+0.j]\n",
            " [0.+0.j 0.+0.j 0.+0.j 0.+0.j]\n",
            " [0.+0.j 0.+0.j 0.+0.j 0.+0.j]]\n",
            "\n",
            "[[0.+0.j 0.+0.j 0.+0.j 0.+0.j]\n",
            " [0.+0.j 0.+0.j 0.+0.j 0.+0.j]\n",
            " [0.+0.j 0.+0.j 0.+0.j 0.+0.j]\n",
            " [0.+0.j 0.+0.j 0.+0.j 0.+0.j]]\n"
          ],
          "name": "stdout"
        }
      ]
    },
    {
      "cell_type": "markdown",
      "metadata": {
        "id": "Mwfsy5uUDg9R"
      },
      "source": [
        "## Casimires de $so(1,3)$ en la representación fundamental\n",
        "\n",
        "* Los autovalores de los casimires son $\\ell_a=1/2$ y $\\ell_b=1/2$\n",
        "* Como consecuencia del estudio, podemos decir que la representación **4** ó **vectorial** de $so(1,3)$ es la $(1/2,1/2)$"
      ]
    },
    {
      "cell_type": "code",
      "metadata": {
        "id": "XSGAyMWesjXi"
      },
      "source": [
        "A=N1*N1+N2*N2+N3*N3\n",
        "B=DN1*DN1+DN2*DN2+DN3*DN3"
      ],
      "execution_count": 28,
      "outputs": []
    },
    {
      "cell_type": "markdown",
      "metadata": {
        "id": "Wld0mZcXEgIp"
      },
      "source": [
        ""
      ]
    },
    {
      "cell_type": "code",
      "metadata": {
        "colab": {
          "base_uri": "https://localhost:8080/"
        },
        "id": "y7tOPlCjPdZv",
        "outputId": "18a65683-d272-45e0-9ba7-42d6cf265e1b"
      },
      "source": [
        "print('Primer Casimir',A)\n",
        "\n",
        "print('Segundo Casimir',B)"
      ],
      "execution_count": 29,
      "outputs": [
        {
          "output_type": "stream",
          "text": [
            "Primer Casimir [[0.75+0.j 0.  +0.j 0.  +0.j 0.  +0.j]\n",
            " [0.  +0.j 0.75+0.j 0.  +0.j 0.  +0.j]\n",
            " [0.  +0.j 0.  +0.j 0.75+0.j 0.  +0.j]\n",
            " [0.  +0.j 0.  +0.j 0.  +0.j 0.75+0.j]]\n",
            "Segundo Casimir [[0.75+0.j 0.  +0.j 0.  +0.j 0.  +0.j]\n",
            " [0.  +0.j 0.75+0.j 0.  +0.j 0.  +0.j]\n",
            " [0.  +0.j 0.  +0.j 0.75+0.j 0.  +0.j]\n",
            " [0.  +0.j 0.  +0.j 0.  +0.j 0.75+0.j]]\n"
          ],
          "name": "stdout"
        }
      ]
    }
  ]
}